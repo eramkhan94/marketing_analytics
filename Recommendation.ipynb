{
 "cells": [
  {
   "cell_type": "markdown",
   "id": "bc03ca3b",
   "metadata": {},
   "source": [
    "## Recommendations"
   ]
  },
  {
   "cell_type": "markdown",
   "id": "fd8aecf6",
   "metadata": {},
   "source": [
    "References:\n",
    "https://salomelomsadze.medium.com/building-a-machine-learning-model-for-product-recommendations-using-customer-purchase-data-95bd86da7350"
   ]
  },
  {
   "cell_type": "code",
   "execution_count": 1,
   "id": "a377edd4",
   "metadata": {},
   "outputs": [
    {
     "name": "stderr",
     "output_type": "stream",
     "text": [
      "/Users/eramkhan/opt/anaconda3/lib/python3.9/site-packages/scipy/__init__.py:146: UserWarning: A NumPy version >=1.16.5 and <1.23.0 is required for this version of SciPy (detected version 1.26.4\n",
      "  warnings.warn(f\"A NumPy version >={np_minversion} and <{np_maxversion}\"\n"
     ]
    }
   ],
   "source": [
    "#Loading Libraries\n",
    "\n",
    "import pandas as pd\n",
    "import numpy as np\n",
    "from sklearn.metrics.pairwise import cosine_similarity\n",
    "from scipy import sparse"
   ]
  },
  {
   "cell_type": "code",
   "execution_count": 2,
   "id": "1cf1cd81",
   "metadata": {},
   "outputs": [],
   "source": [
    "#Loading and filtering required data\n",
    "\n",
    "purchase_history = pd.read_csv('data/past_purchases.csv')\n",
    "purchase_history=purchase_history[['Customer','SalesItem']].drop_duplicates()\n",
    "purchase_history.rename(columns={'Customer': 'user_id', 'SalesItem': 'product_id'}, inplace=True)"
   ]
  },
  {
   "cell_type": "code",
   "execution_count": 62,
   "id": "1f597a30",
   "metadata": {},
   "outputs": [
    {
     "name": "stdout",
     "output_type": "stream",
     "text": [
      "[1248, 1245, 1470, 724, 1181]\n"
     ]
    }
   ],
   "source": [
    "\n",
    "# Count the number of purchases for each user and product combination\n",
    "purchase_counts = purchase_history.groupby(['user_id', 'product_id']).size().unstack(fill_value=0)\n",
    "\n",
    "# Convert the purchase counts to a sparse matrix\n",
    "sparse_purchase_counts = sparse.csr_matrix(purchase_counts)\n",
    "\n",
    "# Compute the cosine similarity matrix between the products\n",
    "cosine_similarities = cosine_similarity(sparse_purchase_counts.T)\n",
    "\n",
    "# Define a function to recommend items for a user based on their purchase history\n",
    "def recommend_items(user_id, n=5):\n",
    "    # Get the user's purchase history\n",
    "    user_history = sparse_purchase_counts[user_id].toarray().flatten()\n",
    "\n",
    "    # Compute the average cosine similarity between the user's purchased items and all other items\n",
    "    similarities = cosine_similarities.dot(user_history)\n",
    "\n",
    "    # Get the indices of the user's purchased items\n",
    "    purchased_indices = np.where(user_history > 0)[0]\n",
    "\n",
    "    # Set the similarity scores for purchased items to 0\n",
    "    similarities[purchased_indices] = 0\n",
    "\n",
    "    # Sort the items by similarity score and return the top n items\n",
    "    recommended_indices = np.argsort(similarities)[::-1][:n]\n",
    "    recommended_items = list(purchase_counts.columns[recommended_indices])\n",
    "    \n",
    "    # Remove the items that the user has already purchased\n",
    "    purchased_items = list(purchase_counts.columns[purchase_counts.loc[user_id] > 0])\n",
    "    recommended_items = [item for item in recommended_items if item not in purchased_items]\n",
    "\n",
    "    return recommended_items\n",
    "\n",
    "# Example usage:\n",
    "print(recommend_items(1))  # Output: ['D', 'C', 'E']\n",
    "\n"
   ]
  }
 ],
 "metadata": {
  "kernelspec": {
   "display_name": "Python 3 (ipykernel)",
   "language": "python",
   "name": "python3"
  },
  "language_info": {
   "codemirror_mode": {
    "name": "ipython",
    "version": 3
   },
   "file_extension": ".py",
   "mimetype": "text/x-python",
   "name": "python",
   "nbconvert_exporter": "python",
   "pygments_lexer": "ipython3",
   "version": "3.9.12"
  }
 },
 "nbformat": 4,
 "nbformat_minor": 5
}
