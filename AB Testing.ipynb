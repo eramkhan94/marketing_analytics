{
 "cells": [
  {
   "cell_type": "markdown",
   "id": "94f8d848",
   "metadata": {},
   "source": [
    "## A/B Testing\n",
    "\n",
    "To identify if there is significant different between populations. For example if two variants of campaign were run A and B, A t-test can indicate if results of one are significantly different from the other. "
   ]
  },
  {
   "cell_type": "code",
   "execution_count": 3,
   "id": "bc609a92",
   "metadata": {},
   "outputs": [],
   "source": [
    "#Loading Libraries\n",
    "\n",
    "import pandas as pd\n",
    "import numpy as np\n",
    "import seaborn as sns\n",
    "import scipy.stats as ss \n",
    "import matplotlib.pyplot as plt"
   ]
  },
  {
   "cell_type": "code",
   "execution_count": 4,
   "id": "f7c176f7",
   "metadata": {},
   "outputs": [
    {
     "name": "stdout",
     "output_type": "stream",
     "text": [
      "   Day   Conversion_A  Conversion_B\n",
      "0     1          0.15          0.19\n",
      "1     2          0.12          0.20\n",
      "2     3          0.18          0.18\n",
      "3     4          0.19          0.22\n",
      "4     5          0.17          0.19\n"
     ]
    }
   ],
   "source": [
    "#Loading data: it contains daywise conversions for campaign A and B\n",
    "\n",
    "data= pd.read_csv(\"data/ab_testing.csv\")\n",
    "print(data.head())"
   ]
  },
  {
   "cell_type": "code",
   "execution_count": 7,
   "id": "9f70eb7c",
   "metadata": {},
   "outputs": [
    {
     "data": {
      "image/png": "[encoded data removed]",
      "text/plain": [
       "<Figure size 432x288 with 1 Axes>"
      ]
     },
     "metadata": {
      "needs_background": "light"
     },
     "output_type": "display_data"
    }
   ],
   "source": [
    "# Ploting distribution of the two groups:\n",
    "\n",
    "plt.hist(data['Conversion_A'], alpha=0.5, label='column1', bins=10)\n",
    "plt.hist(data['Conversion_B'], alpha=0.5, label='column2', bins=10)\n",
    "plt.legend(loc='upper right')\n",
    "plt.show()"
   ]
  },
  {
   "cell_type": "code",
   "execution_count": 8,
   "id": "6762c34a",
   "metadata": {},
   "outputs": [
    {
     "data": {
      "text/plain": [
       "(3.78736793091929, 0.000363796012828762)"
      ]
     },
     "execution_count": 8,
     "metadata": {},
     "output_type": "execute_result"
    }
   ],
   "source": [
    "#Calculating t-statistic and subsequently p-value\n",
    "\n",
    "t_stat, p_val= ss.ttest_ind(data.Conversion_B,data.Conversion_A)\n",
    "t_stat , p_val"
   ]
  }
 ],
 "metadata": {
  "kernelspec": {
   "display_name": "Python 3 (ipykernel)",
   "language": "python",
   "name": "python3"
  },
  "language_info": {
   "codemirror_mode": {
    "name": "ipython",
    "version": 3
   },
   "file_extension": ".py",
   "mimetype": "text/x-python",
   "name": "python",
   "nbconvert_exporter": "python",
   "pygments_lexer": "ipython3",
   "version": "3.9.12"
  }
 },
 "nbformat": 4,
 "nbformat_minor": 5
}
